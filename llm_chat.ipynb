{
 "cells": [
  {
   "cell_type": "code",
   "execution_count": null,
   "id": "963da837",
   "metadata": {},
   "outputs": [],
   "source": [
    "import os\n",
    "from langgraph.graph import StateGraph, START, END\n",
    "# from langchain_openai import ChatOpenAI\n",
    "from typing import TypedDict\n",
    "from dotenv import load_dotenv\n",
    "# import google.generativeai as genai\n",
    "from langchain_google_genai import ChatGoogleGenerativeAI"
   ]
  },
  {
   "cell_type": "code",
   "execution_count": 34,
   "id": "b6252a94",
   "metadata": {},
   "outputs": [
    {
     "data": {
      "text/plain": [
       "True"
      ]
     },
     "execution_count": 34,
     "metadata": {},
     "output_type": "execute_result"
    }
   ],
   "source": [
    "load_dotenv()"
   ]
  },
  {
   "cell_type": "code",
   "execution_count": 35,
   "id": "e246c3af",
   "metadata": {},
   "outputs": [],
   "source": [
    "# Get the API key from the environment variable loaded by dotenv\n",
    "API_KEY = os.getenv(\"GEMINI_API_KEY\")\n",
    "\n",
    "model = ChatGoogleGenerativeAI(\n",
    "    model=\"gemini-1.5-flash\", # Or \"gemini-pro\"\n",
    "    temperature=0.7,          # Controls creativity (0.0 to 1.0)\n",
    "    google_api_key=API_KEY    # This is how LangChain gets your API key for Gemini\n",
    ")\n"
   ]
  },
  {
   "cell_type": "code",
   "execution_count": 37,
   "id": "75ceff3d",
   "metadata": {},
   "outputs": [],
   "source": [
    "# Define the state\n",
    "class LLMState(TypedDict):\n",
    "    user_input: str\n",
    "    llm_response: str"
   ]
  },
  {
   "cell_type": "code",
   "execution_count": 38,
   "id": "ade92faf",
   "metadata": {},
   "outputs": [],
   "source": [
    "def llm_qa(state: LLMState) -> LLMState:\n",
    "    \n",
    "    user_input = state['user_input']\n",
    "\n",
    "    # Prompt the LLM with the user input\n",
    "    prompt = f\"Anser the following question: {user_input}\"\n",
    "    llm_response = model.invoke(prompt).content\n",
    "    state['llm_response'] = llm_response\n",
    "\n",
    "    return state"
   ]
  },
  {
   "cell_type": "code",
   "execution_count": 39,
   "id": "10e8c69a",
   "metadata": {},
   "outputs": [],
   "source": [
    "# Define the state graph\n",
    "graph = StateGraph(LLMState)\n",
    "\n",
    "# Add nodes\n",
    "graph.add_node(\"llm_qa\", llm_qa)\n",
    "# Add edges\n",
    "graph.add_edge(START, \"llm_qa\")\n",
    "graph.add_edge(\"llm_qa\", END)\n",
    "\n",
    "# Compile the graph\n",
    "workflow = graph.compile()\n"
   ]
  },
  {
   "cell_type": "code",
   "execution_count": 41,
   "id": "10a52dda",
   "metadata": {},
   "outputs": [
    {
     "name": "stdout",
     "output_type": "stream",
     "text": [
      "Islamabad\n"
     ]
    }
   ],
   "source": [
    "# Execute the workflow\n",
    "initial_state = LLMState(user_input=\"What is the capital of Pakistan?\")\n",
    "final_state = workflow.invoke(initial_state)\n",
    "print(final_state['llm_response'])"
   ]
  }
 ],
 "metadata": {
  "kernelspec": {
   "display_name": "myenv",
   "language": "python",
   "name": "python3"
  },
  "language_info": {
   "codemirror_mode": {
    "name": "ipython",
    "version": 3
   },
   "file_extension": ".py",
   "mimetype": "text/x-python",
   "name": "python",
   "nbconvert_exporter": "python",
   "pygments_lexer": "ipython3",
   "version": "3.12.3"
  }
 },
 "nbformat": 4,
 "nbformat_minor": 5
}
