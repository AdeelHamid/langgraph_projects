{
 "cells": [
  {
   "cell_type": "code",
   "execution_count": 2,
   "id": "9b840990",
   "metadata": {},
   "outputs": [],
   "source": [
    "# Import liberaries for parrallel flow of langgraphs\n",
    "from langgraph.graph import StateGraph, START, END\n",
    "from typing import TypedDict\n"
   ]
  },
  {
   "cell_type": "code",
   "execution_count": 7,
   "id": "c881de63",
   "metadata": {},
   "outputs": [],
   "source": [
    "# Creating State\n",
    "class BatsmanState(TypedDict):\n",
    "    run: int\n",
    "    balls: int\n",
    "    fours: int\n",
    "    sixes: int\n",
    "\n",
    "    sr: float\n",
    "    bpb: float\n",
    "    boundry_percentage: float\n",
    "    summary: str"
   ]
  },
  {
   "cell_type": "code",
   "execution_count": 12,
   "id": "44919816",
   "metadata": {},
   "outputs": [],
   "source": [
    "# Create functions for nodes\n",
    "def calculate_sr(state: BatsmanState) -> BatsmanState:\n",
    "    sr = (state['run'] / state['balls']) * 100\n",
    "    return {'sr': sr}\n",
    "\n",
    "def calculate_bpb(state: BatsmanState) -> BatsmanState:\n",
    "    bpb = state['balls'] / (state['fours'] + state['sixes'])\n",
    "    return {'bpb': bpb}\n",
    "\n",
    "def calculate_boundry_percentage(state: BatsmanState) -> BatsmanState:\n",
    "    total_boundries = state['fours'] * 4 + state['sixes'] * 6\n",
    "    boundry_percentage = (total_boundries / state['balls']) * 100\n",
    "    return {'boundry_percentage': boundry_percentage}\n",
    "\n",
    "# Define the summary function\n",
    "def calculate_summary(state: BatsmanState) -> str:\n",
    "    summary = (\n",
    "        f\"Runs: {state['run']}, Balls: {state['balls']}, \"\n",
    "        f\"Fours: {state['fours']}, Sixes: {state['sixes']}, \"\n",
    "        f\"Strike Rate: {state['sr']:.2f}, \"\n",
    "        f\"Boundry Percentage: {state['boundry_percentage']:.2f}%\"\n",
    "    )\n",
    "\n",
    "    return {'summary': summary}"
   ]
  },
  {
   "cell_type": "code",
   "execution_count": 13,
   "id": "e2d8173e",
   "metadata": {},
   "outputs": [],
   "source": [
    "# Creating graph\n",
    "graph = StateGraph(BatsmanState)\n",
    "\n",
    "# Adding nodes\n",
    "graph.add_node('calculate_sr', calculate_sr)\n",
    "graph.add_node('calculate_bpb', calculate_bpb)\n",
    "graph.add_node('calculate_boundry_percentage', calculate_boundry_percentage)\n",
    "graph.add_node('calculate_summary', calculate_summary)\n",
    "\n",
    "# Adding edges\n",
    "graph.add_edge(START, 'calculate_sr')\n",
    "graph.add_edge(START, 'calculate_bpb')\n",
    "graph.add_edge(START, 'calculate_boundry_percentage')\n",
    "\n",
    "graph.add_edge('calculate_sr', 'calculate_summary')\n",
    "graph.add_edge('calculate_bpb', 'calculate_summary')\n",
    "graph.add_edge('calculate_boundry_percentage', 'calculate_summary')\n",
    "graph.add_edge('calculate_summary', END)\n",
    "\n",
    "# Compile the graph\n",
    "workflow = graph.compile()\n",
    "\n"
   ]
  },
  {
   "cell_type": "code",
   "execution_count": 14,
   "id": "81c50127",
   "metadata": {},
   "outputs": [
    {
     "data": {
      "text/plain": [
       "{'run': 50,\n",
       " 'balls': 30,\n",
       " 'fours': 5,\n",
       " 'sixes': 2,\n",
       " 'sr': 166.66666666666669,\n",
       " 'bpb': 4.285714285714286,\n",
       " 'boundry_percentage': 106.66666666666667,\n",
       " 'summary': 'Runs: 50, Balls: 30, Fours: 5, Sixes: 2, Strike Rate: 166.67, Boundry Percentage: 106.67%'}"
      ]
     },
     "execution_count": 14,
     "metadata": {},
     "output_type": "execute_result"
    }
   ],
   "source": [
    "# Executing the graph\n",
    "initial_state = {\n",
    "    'run': 50,\n",
    "    'balls': 30,\n",
    "    'fours': 5,\n",
    "    'sixes': 2\n",
    "    }\n",
    "workflow.invoke(initial_state)"
   ]
  }
 ],
 "metadata": {
  "kernelspec": {
   "display_name": "myenv",
   "language": "python",
   "name": "python3"
  },
  "language_info": {
   "codemirror_mode": {
    "name": "ipython",
    "version": 3
   },
   "file_extension": ".py",
   "mimetype": "text/x-python",
   "name": "python",
   "nbconvert_exporter": "python",
   "pygments_lexer": "ipython3",
   "version": "3.12.3"
  }
 },
 "nbformat": 4,
 "nbformat_minor": 5
}
